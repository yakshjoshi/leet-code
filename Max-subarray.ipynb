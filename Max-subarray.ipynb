{
 "cells": [
  {
   "cell_type": "markdown",
   "metadata": {},
   "source": [
    "# Solutions for Maximum Subarray"
   ]
  },
  {
   "cell_type": "markdown",
   "metadata": {},
   "source": [
    "1. Brute Force"
   ]
  },
  {
   "cell_type": "code",
   "execution_count": null,
   "metadata": {},
   "outputs": [],
   "source": [
    "class Solution:\n",
    "    def maxSubArray(self, nums: List[int]) -> int:\n",
    "        max_subarray = -math.inf\n",
    "        for i in range(len(nums)):\n",
    "            current_subarray = 0\n",
    "            for j in range(i,len(nums)):\n",
    "                current_subarray += nums[j]\n",
    "                max_subarray = max(max_subarray, current_subarray)\n",
    "                \n",
    "        return max_subarray"
   ]
  },
  {
   "cell_type": "markdown",
   "metadata": {},
   "source": [
    "Time Complexity = O(n^2)"
   ]
  },
  {
   "cell_type": "markdown",
   "metadata": {},
   "source": [
    "2. Dynamic Programming"
   ]
  },
  {
   "cell_type": "code",
   "execution_count": null,
   "metadata": {},
   "outputs": [],
   "source": [
    "class Solution:\n",
    "    def maxSubArray(self, nums: List[int]) -> int:\n",
    "        current_subarray = max_subarray = nums[0]\n",
    "        \n",
    "        for i in nums[1:]:\n",
    "            current_subarray = max(i, current_subarray+i)\n",
    "            max_subarray = max(max_subarray, current_subarray)\n",
    "            \n",
    "        return max_subarray"
   ]
  },
  {
   "cell_type": "markdown",
   "metadata": {},
   "source": [
    "Time Complexity: O(n)"
   ]
  },
  {
   "cell_type": "markdown",
   "metadata": {},
   "source": [
    "3. Divide and Conquer Approach"
   ]
  },
  {
   "cell_type": "code",
   "execution_count": null,
   "metadata": {},
   "outputs": [],
   "source": [
    "class Solution:\n",
    "    def maxSubArray(self, nums: List[int]) -> int:\n",
    "        def bestSubArray(nums, left, right):\n",
    "            if left > right:\n",
    "                return -math.inf\n",
    "\n",
    "            mid = (left+right)//2\n",
    "            curr = left_sub = right_sub = 0\n",
    "\n",
    "            for i in range(mid-1,left-1,-1):\n",
    "                curr+=nums[i]\n",
    "                left_sub = max(curr, left_sub )\n",
    "\n",
    "            curr = 0\n",
    "\n",
    "            for j in range(mid+1, right+1):\n",
    "                curr+=nums[j]\n",
    "                right_sub = max(curr, right_sub)\n",
    "\n",
    "            best_subarray = nums[mid] + left_sub + right_sub\n",
    "\n",
    "            left_best = bestSubArray(nums, left,mid-1 )\n",
    "            right_best = bestSubArray(nums,mid+1, right )\n",
    "\n",
    "            return max(best_subarray, left_best, right_best)\n",
    "\n",
    "        return bestSubArray(nums, 0, len(nums) -1)"
   ]
  },
  {
   "cell_type": "markdown",
   "metadata": {},
   "source": [
    "Time Complexity: O(nlog(n))"
   ]
  }
 ],
 "metadata": {
  "kernelspec": {
   "display_name": "Python 3",
   "language": "python",
   "name": "python3"
  },
  "language_info": {
   "codemirror_mode": {
    "name": "ipython",
    "version": 3
   },
   "file_extension": ".py",
   "mimetype": "text/x-python",
   "name": "python",
   "nbconvert_exporter": "python",
   "pygments_lexer": "ipython3",
   "version": "3.8.5"
  }
 },
 "nbformat": 4,
 "nbformat_minor": 4
}
